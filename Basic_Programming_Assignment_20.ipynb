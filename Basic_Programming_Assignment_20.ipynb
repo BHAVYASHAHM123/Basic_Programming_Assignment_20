{
  "nbformat": 4,
  "nbformat_minor": 0,
  "metadata": {
    "colab": {
      "name": "Basic_Programming_Assignment_20.ipynb",
      "provenance": []
    },
    "kernelspec": {
      "name": "python3",
      "display_name": "Python 3"
    },
    "language_info": {
      "name": "python"
    }
  },
  "cells": [
    {
      "cell_type": "markdown",
      "source": [
        "Create a function that takes a list of strings and integers, and filters out the list so that it\n",
        "returns a list of integers only.\n",
        "Examples\n",
        "filter_list([1, 2, 3, 'a', 'b', 4]) ➞ [1, 2, 3, 4]\n",
        "filter_list(['A', 0, 'Edabit', 1729, 'Python', '1729']) ➞ [0, 1729]\n",
        "filter_list(['Nothing', 'here']) ➞ []"
      ],
      "metadata": {
        "id": "l4LHuSncSOeK"
      }
    },
    {
      "cell_type": "code",
      "execution_count": 1,
      "metadata": {
        "id": "kpepcJsiSKBH"
      },
      "outputs": [],
      "source": [
        "lst = [1, 2, 3, 'a', 'b', 4]\n",
        "def filter_list(lst):\n",
        "    intLst = []\n",
        "    for i in lst:\n",
        "        if type(i) == int:\n",
        "            intLst.append(i)\n",
        "    return intLst   "
      ]
    },
    {
      "cell_type": "code",
      "source": [
        "filter_list([1, 2, 3, 'a', 'b', 4])"
      ],
      "metadata": {
        "colab": {
          "base_uri": "https://localhost:8080/"
        },
        "id": "7bFkei0fSSIs",
        "outputId": "9ff93fbd-be71-49e0-a2f6-8d4f494fc7aa"
      },
      "execution_count": 2,
      "outputs": [
        {
          "output_type": "execute_result",
          "data": {
            "text/plain": [
              "[1, 2, 3, 4]"
            ]
          },
          "metadata": {},
          "execution_count": 2
        }
      ]
    },
    {
      "cell_type": "code",
      "source": [
        "filter_list(['A', 0, 'Edabit', 1729, 'Python', '1729'])\n"
      ],
      "metadata": {
        "colab": {
          "base_uri": "https://localhost:8080/"
        },
        "id": "0YFeKEvESUda",
        "outputId": "a27e685f-62f0-4a44-ebf8-98f3508454ed"
      },
      "execution_count": 3,
      "outputs": [
        {
          "output_type": "execute_result",
          "data": {
            "text/plain": [
              "[0, 1729]"
            ]
          },
          "metadata": {},
          "execution_count": 3
        }
      ]
    },
    {
      "cell_type": "code",
      "source": [
        "filter_list(['Nothing', 'here'])\n"
      ],
      "metadata": {
        "colab": {
          "base_uri": "https://localhost:8080/"
        },
        "id": "KNxEuRyCSWcy",
        "outputId": "5e073849-1cf1-4d81-89cd-32c444cb621b"
      },
      "execution_count": 4,
      "outputs": [
        {
          "output_type": "execute_result",
          "data": {
            "text/plain": [
              "[]"
            ]
          },
          "metadata": {},
          "execution_count": 4
        }
      ]
    },
    {
      "cell_type": "markdown",
      "source": [
        "Q2) \n",
        "Given a list of numbers, create a function which returns the list but with each element's\n",
        "index in the list added to itself. This means you add 0 to the number at index 0, add 1 to the\n",
        "number at index 1, etc...\n",
        "Examples\n",
        "add_indexes([0, 0, 0, 0, 0]) ➞ [0, 1, 2, 3, 4]\n",
        "add_indexes([1, 2, 3, 4, 5]) ➞ [1, 3, 5, 7, 9]\n",
        "add_indexes([5, 4, 3, 2, 1]) ➞ [5, 5, 5, 5, 5]"
      ],
      "metadata": {
        "id": "TTISvW7MSe_t"
      }
    },
    {
      "cell_type": "code",
      "source": [
        "def add_indexes(lst):\n",
        "    ind = 0\n",
        "    index = []\n",
        "    for i in lst:\n",
        "        index.append(lst.index(i,ind) + i)\n",
        "        ind+=1\n",
        "    return index"
      ],
      "metadata": {
        "id": "8BeO8AG6SYz1"
      },
      "execution_count": 5,
      "outputs": []
    },
    {
      "cell_type": "code",
      "source": [
        "add_indexes([0, 0, 0, 0, 0])\n"
      ],
      "metadata": {
        "colab": {
          "base_uri": "https://localhost:8080/"
        },
        "id": "A7wmmjexSiTs",
        "outputId": "1e620f51-b60b-4710-ed67-2fcc5bb1f059"
      },
      "execution_count": 6,
      "outputs": [
        {
          "output_type": "execute_result",
          "data": {
            "text/plain": [
              "[0, 1, 2, 3, 4]"
            ]
          },
          "metadata": {},
          "execution_count": 6
        }
      ]
    },
    {
      "cell_type": "code",
      "source": [
        "add_indexes([1, 2, 3, 4, 5])\n"
      ],
      "metadata": {
        "colab": {
          "base_uri": "https://localhost:8080/"
        },
        "id": "_9J2KYViSjsA",
        "outputId": "9bbbcef4-4b04-462d-8837-4c829899beb6"
      },
      "execution_count": 7,
      "outputs": [
        {
          "output_type": "execute_result",
          "data": {
            "text/plain": [
              "[1, 3, 5, 7, 9]"
            ]
          },
          "metadata": {},
          "execution_count": 7
        }
      ]
    },
    {
      "cell_type": "code",
      "source": [
        "add_indexes([5, 4, 3, 2, 1])"
      ],
      "metadata": {
        "colab": {
          "base_uri": "https://localhost:8080/"
        },
        "id": "qrad4sxHSlcN",
        "outputId": "53bda31c-8a78-454e-f624-c663a7d1bcf4"
      },
      "execution_count": 9,
      "outputs": [
        {
          "output_type": "execute_result",
          "data": {
            "text/plain": [
              "[5, 5, 5, 5, 5]"
            ]
          },
          "metadata": {},
          "execution_count": 9
        }
      ]
    },
    {
      "cell_type": "markdown",
      "source": [
        "Q3) \n",
        "Create a function that takes the height and radius of a cone as arguments and returns the\n",
        "volume of the cone rounded to the nearest hundredth. See the resources tab for the formula.\n",
        "\n",
        "Examples\n",
        "cone_volume(3, 2) ➞ 12.57\n",
        "\n",
        "cone_volume(15, 6) ➞ 565.49\n",
        "cone_volume(18, 0) ➞ 0"
      ],
      "metadata": {
        "id": "zWv_avVWS0w_"
      }
    },
    {
      "cell_type": "code",
      "source": [
        "import math\n",
        "pi = math.pi\n",
        " \n",
        "# Function to calculate Volume of Cone\n",
        "def cone_volume(r, h):\n",
        "    return round((1 / 3) * pi * r * r * h)\n",
        " \n",
        "\n",
        "# Driver Code\n",
        "radius = float(5)\n",
        "height = float(12)\n",
        "\n",
        "print( \"Volume Of Cone : \", cone_volume(radius, height) )"
      ],
      "metadata": {
        "colab": {
          "base_uri": "https://localhost:8080/"
        },
        "id": "v530k1EpSt0S",
        "outputId": "f8ea38e2-83b5-4d57-b2bb-d47e184ea8cb"
      },
      "execution_count": 10,
      "outputs": [
        {
          "output_type": "stream",
          "name": "stdout",
          "text": [
            "Volume Of Cone :  314\n"
          ]
        }
      ]
    },
    {
      "cell_type": "code",
      "source": [
        "cone_volume(3, 2)\n"
      ],
      "metadata": {
        "colab": {
          "base_uri": "https://localhost:8080/"
        },
        "id": "cQLOx4RBS6Hg",
        "outputId": "b1886480-befb-4bc3-ab61-b41b498bb3b9"
      },
      "execution_count": 11,
      "outputs": [
        {
          "output_type": "execute_result",
          "data": {
            "text/plain": [
              "19"
            ]
          },
          "metadata": {},
          "execution_count": 11
        }
      ]
    },
    {
      "cell_type": "code",
      "source": [
        "cone_volume(15, 6)\n"
      ],
      "metadata": {
        "colab": {
          "base_uri": "https://localhost:8080/"
        },
        "id": "yUdjXwH1TXi0",
        "outputId": "e2821ef9-e12d-4914-e698-3f726ed337c4"
      },
      "execution_count": 12,
      "outputs": [
        {
          "output_type": "execute_result",
          "data": {
            "text/plain": [
              "1414"
            ]
          },
          "metadata": {},
          "execution_count": 12
        }
      ]
    },
    {
      "cell_type": "code",
      "source": [
        "cone_volume(18, 0)\n"
      ],
      "metadata": {
        "colab": {
          "base_uri": "https://localhost:8080/"
        },
        "id": "Nqpu76h8TZSJ",
        "outputId": "64219602-2ce8-4ac7-d943-e43d002173c0"
      },
      "execution_count": 13,
      "outputs": [
        {
          "output_type": "execute_result",
          "data": {
            "text/plain": [
              "0"
            ]
          },
          "metadata": {},
          "execution_count": 13
        }
      ]
    },
    {
      "cell_type": "markdown",
      "source": [
        "Q4)\n",
        "This Triangular Number Sequence is generated from a pattern of dots that form a triangle.\n",
        "The first 5 numbers of the sequence, or dots, are:\n",
        "1, 3, 6, 10, 15\n",
        "This means that the first triangle has just one dot, the second one has three dots, the third one\n",
        "has 6 dots and so on.\n",
        "Write a function that gives the number of dots with its corresponding triangle number of the\n",
        "sequence.\n",
        "Examples\n",
        "triangle(1) ➞ 1\n",
        "triangle(6) ➞ 21\n",
        "triangle(215) ➞ 23220\n",
        "A Rule\n",
        "We can make a \"Rule\" so we can calculate any triangular number.\n",
        "\n",
        "First, rearrange the dots like this:\n",
        "\n",
        "triangular numbers 1 to 5\n",
        "\n",
        "Then double the number of dots, and form them into a rectangle:\n",
        "\n",
        "triangular numbers when doubled become n by n+1 rectangles\n",
        "\n",
        "Now it is easy to work out how many dots: just multiply n by n+1\n",
        "\n",
        "Dots in rectangle = n(n+1)\n",
        "\n",
        "But remember we doubled the number of dots, so\n",
        "\n",
        "Dots in triangle = n(n+1)/2\n",
        "\n",
        "We can use xn to mean \"dots in triangle n\", so we get the rule:\n",
        "\n",
        "Rule: xn = n(n+1)/2"
      ],
      "metadata": {
        "id": "VjbYrzSuTez3"
      }
    },
    {
      "cell_type": "code",
      "source": [
        "def triangle(n):\n",
        "    return n*(n+1)*0.5\n",
        "\n",
        "n = int(input('Enter the trinalge number :'))\n",
        "print(\"The {}th triangle has {} dots \".format(n,int(triangle(n))))"
      ],
      "metadata": {
        "colab": {
          "base_uri": "https://localhost:8080/"
        },
        "id": "5FtH29_sTa6Z",
        "outputId": "c43c3944-dbbf-4d17-8025-a2d71c4fdc27"
      },
      "execution_count": 16,
      "outputs": [
        {
          "output_type": "stream",
          "name": "stdout",
          "text": [
            "Enter the trinalge number :215\n",
            "The 215th triangle has 23220 dots \n"
          ]
        }
      ]
    },
    {
      "cell_type": "code",
      "source": [
        "triangle(215)\n"
      ],
      "metadata": {
        "colab": {
          "base_uri": "https://localhost:8080/"
        },
        "id": "J5z4q2g-Ti_A",
        "outputId": "cfe610e6-0e2f-4b9b-e4fc-0631966174a2"
      },
      "execution_count": 15,
      "outputs": [
        {
          "output_type": "execute_result",
          "data": {
            "text/plain": [
              "23220.0"
            ]
          },
          "metadata": {},
          "execution_count": 15
        }
      ]
    },
    {
      "cell_type": "code",
      "source": [
        "triangle(1)\n"
      ],
      "metadata": {
        "colab": {
          "base_uri": "https://localhost:8080/"
        },
        "id": "DUvy2u--Tnop",
        "outputId": "a4246f33-4d50-4b98-ad25-09124ac0b673"
      },
      "execution_count": 21,
      "outputs": [
        {
          "output_type": "execute_result",
          "data": {
            "text/plain": [
              "1.0"
            ]
          },
          "metadata": {},
          "execution_count": 21
        }
      ]
    },
    {
      "cell_type": "markdown",
      "source": [
        "Q5) \n",
        "Create a function that takes a list of numbers between 1 and 10 (excluding one number) and\n",
        "returns the missing number.\n",
        "Examples\n",
        "missing_num([1, 2, 3, 4, 6, 7, 8, 9, 10]) ➞ 5\n",
        "missing_num([7, 2, 3, 6, 5, 9, 1, 4, 8]) ➞ 10\n",
        "missing_num([10, 5, 1, 2, 4, 6, 8, 3, 9]) ➞ 7"
      ],
      "metadata": {
        "id": "Ow2OJbdWTwv-"
      }
    },
    {
      "cell_type": "code",
      "source": [
        "def missing_num(lst):\n",
        "    total = sum([x for x in range(11)])\n",
        "    sum_Of_list = sum(lst)\n",
        "    return total - sum_Of_list\n",
        "\n",
        "print(missing_num([1, 2, 3, 4, 6, 7, 8, 9, 10]))"
      ],
      "metadata": {
        "colab": {
          "base_uri": "https://localhost:8080/"
        },
        "id": "dHxRbtmrTtgu",
        "outputId": "c43754fa-b8e1-4a55-e12c-263a39eb3fa3"
      },
      "execution_count": 18,
      "outputs": [
        {
          "output_type": "stream",
          "name": "stdout",
          "text": [
            "5\n"
          ]
        }
      ]
    },
    {
      "cell_type": "code",
      "source": [
        "missing_num([7, 2, 3, 6, 5, 9, 1, 4, 8])\n"
      ],
      "metadata": {
        "colab": {
          "base_uri": "https://localhost:8080/"
        },
        "id": "_P_kpEvjT1QE",
        "outputId": "873516a8-5155-4840-9afb-5a3549f3c153"
      },
      "execution_count": 19,
      "outputs": [
        {
          "output_type": "execute_result",
          "data": {
            "text/plain": [
              "10"
            ]
          },
          "metadata": {},
          "execution_count": 19
        }
      ]
    },
    {
      "cell_type": "code",
      "source": [
        "missing_num([10, 5, 1, 2, 4, 6, 8, 3, 9])\n"
      ],
      "metadata": {
        "colab": {
          "base_uri": "https://localhost:8080/"
        },
        "id": "h4GPshP9T3Ii",
        "outputId": "80e20a4b-1d22-4067-93e4-5e14e3f0efcd"
      },
      "execution_count": 20,
      "outputs": [
        {
          "output_type": "execute_result",
          "data": {
            "text/plain": [
              "7"
            ]
          },
          "metadata": {},
          "execution_count": 20
        }
      ]
    },
    {
      "cell_type": "code",
      "source": [
        ""
      ],
      "metadata": {
        "id": "yrfwnNJfT5Fw"
      },
      "execution_count": null,
      "outputs": []
    }
  ]
}